{
  "nbformat": 4,
  "nbformat_minor": 0,
  "metadata": {
    "colab": {
      "provenance": []
    },
    "kernelspec": {
      "name": "python3",
      "display_name": "Python 3"
    },
    "language_info": {
      "name": "python"
    }
  },
  "cells": [
    {
      "cell_type": "markdown",
      "source": [
        "Q1. What is the Probability density function?"
      ],
      "metadata": {
        "id": "HqJgNdJS-Oef"
      }
    },
    {
      "cell_type": "markdown",
      "source": [
        "Answer:-\n",
        "\n",
        "The Probability Density Function (PDF) is a function that describes the likelihood of a continuous random variable taking on a specific value. Essentially, it provides the relative likelihood for the variable to take on a particular value.\n",
        "\n",
        "Key Characteristics\n",
        "Non-Negative: The PDF is always non-negative, i.e.,\n",
        "\n",
        "𝑓(𝑥)≥0 for all 𝑥.\n",
        "\n",
        "Area Under the Curve: The total area under the PDF curve equals 1, indicating that the total probability of all possible outcomes is 1.\n",
        "\n",
        "Density, Not Probability: The value of the PDF at a specific point does not give the probability of the random variable taking that exact value but rather the density. Probability for a specific value in continuous distributions is zero; it is the area under the curve over an interval that gives the probability.\n",
        "\n",
        "Formula\n",
        "\n",
        "For a continuous random variable 𝑋 with a probability density function 𝑓(𝑥):-\n",
        "\n",
        "![Screenshot 2024-11-14 101802.png](data:image/png;base64,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)\n",
        "\n",
        "Example\n",
        "\n",
        "Consider the PDF of a normal distribution:\n",
        "\n",
        "\\[ f(x) = \\frac{1}{\\sqrt{2\\pi\\sigma^2}} \\exp \\left(-\\frac{(x - \\mu)2}{2\\sigma2}\\right) \\]\n",
        "\n",
        "where:\n",
        "\n",
        "𝜇\n",
        "is the mean.\n",
        "\n",
        "𝜎2\n",
        "is the variance.\n",
        "\n",
        "exp represents the exponential function.\n",
        "\n",
        "In this example, the PDF describes how data is distributed around the mean, with most data points falling close to the mean and fewer as you move away.\n"
      ],
      "metadata": {
        "id": "vUEJ0Rn4-QZ0"
      }
    },
    {
      "cell_type": "markdown",
      "source": [
        "Q2. What are the types of Probability distribution?"
      ],
      "metadata": {
        "id": "ovjSo_7eAfGt"
      }
    },
    {
      "cell_type": "markdown",
      "source": [
        "Answer:-There are several types of probability distributions, each with its own characteristics and applications. Here are some commonly encountered types:\n",
        "\n",
        "1.Uniform Distribution: In a uniform distribution, all outcomes within a given range are equally likely. The probability density function (PDF) is constant over the range of possible values. Examples include rolling a fair die or selecting a random number from a continuous interval.\n",
        "\n",
        "2.Normal Distribution (Gaussian Distribution): The normal distribution is one of the most widely used distributions in statistics. It is characterized by its bell-shaped curve. The PDF is symmetric, with the mean, median, and mode all coinciding at the center. Many natural phenomena follow a normal distribution, such as heights, weights, and measurement errors.\n",
        "\n",
        "3.Binomial Distribution: The binomial distribution describes the probability of obtaining a certain number of successes in a fixed number of independent Bernoulli trials (experiments with two possible outcomes, often referred to as success and failure). The PDF of the binomial distribution gives the probability of getting each possible number of successes. It is often used to model situations involving yes/no outcomes or counting the number of successes in a fixed number of trials.\n",
        "\n",
        "4.Poisson Distribution: The Poisson distribution is used to model the probability of a certain number of events occurring within a fixed interval of time or space. It is often used for rare events that occur independently. The Poisson distribution has a single parameter, λ (lambda), which represents the average rate of event occurrences. The PDF of the Poisson distribution gives the probability of obtaining each possible count.\n",
        "\n",
        "5.Exponential Distribution: The exponential distribution is a continuous probability distribution that models the time between events in a Poisson process (a process with a constant rate of events occurring independently). It is often used to describe the time until the next event or the survival time of certain systems. The PDF of the exponential distribution is characterized by a decaying exponential curve.\n",
        "\n",
        "6.Chi-Square Distribution: The chi-square distribution arises in various statistical tests, such as the chi-square test for independence and goodness-of-fit tests. It is defined by a parameter called degrees of freedom. The PDF of the chi-square distribution is positively skewed and assumes only non-negative values.\n",
        "\n",
        "These are just a few examples of probability distributions. There are many other distributions, such as the gamma distribution, beta distribution, t-distribution, and more, each with its own characteristics and applications in different fields of study."
      ],
      "metadata": {
        "id": "iNzRS-GKAfsc"
      }
    },
    {
      "cell_type": "markdown",
      "source": [
        "Q3. Write a Python function to calculate the probability density function of a normal distribution with\n",
        "given mean and standard deviation at a given point."
      ],
      "metadata": {
        "id": "RtGWhWpmBP-N"
      }
    },
    {
      "cell_type": "markdown",
      "source": [
        "Answer:-Here's a Python function that calculates the probability density function (PDF) of a normal distribution at a given point, given the mean and standard deviation:"
      ],
      "metadata": {
        "id": "M1A7IwuOBURN"
      }
    },
    {
      "cell_type": "code",
      "source": [
        "import math\n",
        "def normal_pdf(x,mean,std_dev):\n",
        "    coefficient= 1/(std_dev*math.sqrt(2*math.pi))\n",
        "    exponent=-((x-mean)**2)/(2*(std_dev**2))\n",
        "    pdf=coefficient*math.exp(exponent)\n",
        "    return pdf"
      ],
      "metadata": {
        "id": "kQbsR30wBfjS"
      },
      "execution_count": 1,
      "outputs": []
    },
    {
      "cell_type": "markdown",
      "source": [
        "In this function, x represents the point at which you want to calculate the PDF, mean is the mean of the normal distribution, and std_dev is the standard deviation.\n",
        "\n",
        "To use this function, simply call it and provide the required parameters. Here's an example:"
      ],
      "metadata": {
        "id": "6hVnq1xOBmtv"
      }
    },
    {
      "cell_type": "code",
      "source": [
        "mean=3\n",
        "std_dev=2\n",
        "x=4\n",
        "pdf=normal_pdf(x,mean,std_dev)"
      ],
      "metadata": {
        "id": "waHZGwsUBmen"
      },
      "execution_count": 2,
      "outputs": []
    },
    {
      "cell_type": "code",
      "source": [
        "pdf"
      ],
      "metadata": {
        "colab": {
          "base_uri": "https://localhost:8080/"
        },
        "id": "hlj_n9haBiqo",
        "outputId": "5787c66e-5e7b-47b8-8f47-3ab69d8b0ff1"
      },
      "execution_count": 3,
      "outputs": [
        {
          "output_type": "execute_result",
          "data": {
            "text/plain": [
              "0.17603266338214976"
            ]
          },
          "metadata": {},
          "execution_count": 3
        }
      ]
    },
    {
      "cell_type": "markdown",
      "source": [
        "Q4. What are the properties of Binomial distribution? Give two examples of events where binomial\n",
        "distribution can be applied."
      ],
      "metadata": {
        "id": "vG926ibEBy72"
      }
    },
    {
      "cell_type": "markdown",
      "source": [
        "Answer:-\n",
        "\n",
        "The Binomial distribution is a discrete probability distribution that describes the number of successes in a fixed number of independent trials, where each trial has the same probability of success. The key properties of the Binomial distribution are:-\n",
        "\n",
        "The number of trials n is fixed and known in advance.\n",
        "\n",
        "1.Each trial is independent of the others.\n",
        "\n",
        "2.There are only two possible outcomes for each trial: success or failure.\n",
        "\n",
        "3.The probability of success p is the same for each trial.\n",
        "\n",
        "Some examples of events where the Binomial distribution can be applied are:-\n",
        "\n",
        "1.Flipping a coin multiple times and counting the number of times it lands on heads. Here, each coin flip is an independent trial, and there are only two possible outcomes (heads or tails) with a fixed probability of success (0.5 assuming a fair coin).\n",
        "\n",
        "2.Testing a new drug to see how many patients respond positively. Here, each patient is an independent trial, and there are only two possible outcomes (response or no response) with a fixed probability of success (based on the effectiveness of the drug).\n",
        "\n",
        "In general, the Binomial distribution is useful in any situation where we want to model the number of successes in a fixed number of independent trials, where each trial has the same probability of success.\n"
      ],
      "metadata": {
        "id": "2DC2RYOkBy5E"
      }
    },
    {
      "cell_type": "markdown",
      "source": [
        "Q5. Generate a random sample of size 1000 from a binomial distribution with probability of success 0.4\n",
        "and plot a histogram of the results using matplotlib."
      ],
      "metadata": {
        "id": "Ju3X6sMjCNo4"
      }
    },
    {
      "cell_type": "markdown",
      "source": [
        "Answer:-\n",
        "\n",
        "Here’s how you can generate a random sample of size 1000 from a binomial distribution with a probability of success of 0.4 and plot a histogram of the results using matplotlib in Python:"
      ],
      "metadata": {
        "id": "O1mYS3PiCOLn"
      }
    },
    {
      "cell_type": "code",
      "source": [
        "import numpy as np\n",
        "import matplotlib.pyplot as plt\n",
        "\n",
        "# Parameters\n",
        "n = 10          # Number of trials\n",
        "p = 0.4         # Probability of success\n",
        "size = 1000     # Sample size\n",
        "\n",
        "# Generate random sample from binomial distribution\n",
        "sample = np.random.binomial(n, p, size)\n",
        "\n",
        "# Plot histogram\n",
        "plt.hist(sample, bins=range(0, n+2), edgecolor='black', alpha=0.7)\n",
        "plt.title('Histogram of Binomial Distribution')\n",
        "plt.xlabel('Number of Successes')\n",
        "plt.ylabel('Frequency')\n",
        "plt.xticks(range(0, n+1))\n",
        "plt.show()"
      ],
      "metadata": {
        "colab": {
          "base_uri": "https://localhost:8080/",
          "height": 472
        },
        "id": "4lPRlH_SCaJ9",
        "outputId": "ea423309-912e-4a1d-eb1d-6b11e46f5294"
      },
      "execution_count": 4,
      "outputs": [
        {
          "output_type": "display_data",
          "data": {
            "text/plain": [
              "<Figure size 640x480 with 1 Axes>"
            ],
            "image/png": "[encoded data removed]"
          },
          "metadata": {}
        }
      ]
    },
    {
      "cell_type": "markdown",
      "source": [
        "Q6. Write a Python function to calculate the cumulative distribution function of a Poisson distribution\n",
        "with given mean at a given point."
      ],
      "metadata": {
        "id": "VA75PYysCNmm"
      }
    },
    {
      "cell_type": "markdown",
      "source": [
        "Answer:-"
      ],
      "metadata": {
        "id": "K97errhICxI1"
      }
    },
    {
      "cell_type": "code",
      "source": [
        "import math\n",
        "\n",
        "def poisson_cdf(mean, point):\n",
        "    \"\"\"\n",
        "    Calculates the cumulative distribution function of a\n",
        "    Poisson distribution with given mean at a given point\n",
        "    \"\"\"\n",
        "    cdf = 0\n",
        "    for k in range(point + 1):\n",
        "        cdf = cdf + math.exp(-mean) * pow(mean, k) / math.factorial(k)\n",
        "    return cdf"
      ],
      "metadata": {
        "id": "YKb6opK2BtFK"
      },
      "execution_count": 6,
      "outputs": []
    },
    {
      "cell_type": "markdown",
      "source": [
        "Example Calculating CDF of poission Distribution with mean = 4 at x = 2"
      ],
      "metadata": {
        "id": "zIAdhOCVDOOG"
      }
    },
    {
      "cell_type": "code",
      "source": [
        "result = poisson_cdf(mean=4,point=2)\n",
        "print(f'Poison cdf for mean = 4 at x = 2 is {round(result,4)}')"
      ],
      "metadata": {
        "colab": {
          "base_uri": "https://localhost:8080/"
        },
        "id": "n-PXmfu7C4wS",
        "outputId": "3f368311-4f98-4449-a9d0-a7b219cf7b64"
      },
      "execution_count": 7,
      "outputs": [
        {
          "output_type": "stream",
          "name": "stdout",
          "text": [
            "Poison cdf for mean = 4 at x = 2 is 0.2381\n"
          ]
        }
      ]
    },
    {
      "cell_type": "markdown",
      "source": [
        "Verifying with scipy.stats"
      ],
      "metadata": {
        "id": "BS1S8fFLDTfv"
      }
    },
    {
      "cell_type": "code",
      "source": [
        "from scipy.stats import poisson\n",
        "poisson.cdf(2,mu=4)"
      ],
      "metadata": {
        "colab": {
          "base_uri": "https://localhost:8080/"
        },
        "id": "ksZ2XpOFDQ1g",
        "outputId": "78700126-56b8-4800-aa5f-0028c3a7c3f9"
      },
      "execution_count": 9,
      "outputs": [
        {
          "output_type": "execute_result",
          "data": {
            "text/plain": [
              "0.23810330555354436"
            ]
          },
          "metadata": {},
          "execution_count": 9
        }
      ]
    },
    {
      "cell_type": "markdown",
      "source": [
        "Q7. How Binomial distribution different from Poisson distribution?"
      ],
      "metadata": {
        "id": "KQqJCaI9Dmwd"
      }
    },
    {
      "cell_type": "markdown",
      "source": [
        "Answer:-\n",
        "\n",
        "The Binomial and Poisson distributions are both discrete probability distributions, but they differ in several key aspects:\n",
        "\n",
        "Binomial Distribution\n",
        "Definition: Represents the number of successes in a fixed number of independent trials, each with the same probability of success.\n",
        "\n",
        "Parameters:\n",
        "\n",
        "1.𝑛: Number of trials\n",
        "\n",
        "2.𝑝: Probability of success in each trial\n",
        "\n",
        "Characteristics:\n",
        "\n",
        "1.The trials are independent.\n",
        "\n",
        "2.The probability of success is constant for each trial.\n",
        "\n",
        "3.The distribution is bounded by 0 and 𝑛 (number of trials).\n",
        "\n",
        "Example: Flipping a coin 10 times and counting the number of heads.\n",
        "\n",
        "Poisson Distribution\n",
        "Definition: Represents the number of events occurring within a fixed interval of time or space, given a constant mean rate and the events occurring independently of the time since the last event.\n",
        "\n",
        "Parameters:\n",
        "\n",
        "1.𝜆: Mean number of events in the given interval\n",
        "\n",
        "Characteristics:\n",
        "\n",
        "1.It describes the number of events in continuous time or space intervals.\n",
        "\n",
        "2.The events occur independently.\n",
        "\n",
        "3.The mean rate (𝜆) is constant.\n",
        "\n",
        "4.The distribution is unbounded (can take any non-negative integer value).\n",
        "\n",
        "Example: The number of emails received in an hour.\n",
        "\n",
        "Summary\n",
        "\n",
        "Binomial Distribution: Used for scenarios with a fixed number of trials, each having the same probability of success.\n",
        "\n",
        "Poisson Distribution: Used for scenarios where events occur independently over a continuous interval, at a constant average rate."
      ],
      "metadata": {
        "id": "XkOTXCskDnTe"
      }
    },
    {
      "cell_type": "markdown",
      "source": [
        "Q8. Generate a random sample of size 1000 from a Poisson distribution with mean 5 and calculate the\n",
        "sample mean and variance."
      ],
      "metadata": {
        "id": "8CvI5RJgEfw1"
      }
    },
    {
      "cell_type": "markdown",
      "source": [
        "Answer:-"
      ],
      "metadata": {
        "id": "I2elwIneEkLP"
      }
    },
    {
      "cell_type": "code",
      "source": [
        "import numpy as np\n",
        "\n",
        "# Set the random seed for reproducibility\n",
        "np.random.seed(42)\n",
        "\n",
        "# Generate a random sample of size 1000 from a Poisson distribution with mean 5\n",
        "sample = np.random.poisson(lam=5, size=1000)\n",
        "\n",
        "# Calculate the sample mean and variance\n",
        "sample_mean = np.mean(sample)\n",
        "sample_var = np.var(sample)\n",
        "\n",
        "# Printing the output\n",
        "print(\"Poission Sample Mean     :\", sample_mean)\n",
        "print(\"Poission Sample Variance :\", sample_var)"
      ],
      "metadata": {
        "colab": {
          "base_uri": "https://localhost:8080/"
        },
        "id": "4cT5KhXHErpz",
        "outputId": "79177567-b99a-4940-e552-91d2950a3177"
      },
      "execution_count": 10,
      "outputs": [
        {
          "output_type": "stream",
          "name": "stdout",
          "text": [
            "Poission Sample Mean     : 4.985\n",
            "Poission Sample Variance : 4.9967749999999995\n"
          ]
        }
      ]
    },
    {
      "cell_type": "markdown",
      "source": [
        "Q9. How mean and variance are related in Binomial distribution and Poisson distribution?"
      ],
      "metadata": {
        "id": "kLddjlPMEvwa"
      }
    },
    {
      "cell_type": "markdown",
      "source": [
        "Answer:-\n",
        "\n",
        "1.Binomial Distribution\n",
        "In the binomial distribution, the mean (or expected value) and variance are related as follows:\n",
        "\n",
        "Mean = np\n",
        "\n",
        "Variance = np(1-p)\n",
        "\n",
        "Where n is the number of trials, p is the probability of success in each trial, np is the expected number of successes, and np(1-p) is the variance.\n",
        "\n",
        "2.Poission Distribution\n",
        "In the Poisson distribution, the mean (or expected value) and variance are related as follows:\n",
        "\n",
        "Mean = Variance = λ\n",
        "\n",
        "where λ is the average number of rare events in the interval."
      ],
      "metadata": {
        "id": "BfSpnzorEwUc"
      }
    },
    {
      "cell_type": "markdown",
      "source": [
        "Q10. In normal distribution with respect to mean position, where does the least frequent data appear?"
      ],
      "metadata": {
        "id": "kt6glQa8FGgr"
      }
    },
    {
      "cell_type": "markdown",
      "source": [
        "Answer:-\n",
        "\n",
        "In a normal distribution, the least frequent data appear in the tails of the distribution, which are the regions that are farthest from the mean. The tails of a normal distribution represent the extreme values of the variable being measured, which are less common than the values closer to the mean.\n",
        "\n",
        "For example, if we have a normal distribution with mean 0 and standard deviation 1, the least frequent data will appear in the tails of the distribution, which are the regions beyond 3 standard deviations from the mean. This is because the normal distribution is symmetric around the mean, and the probability density decreases rapidly as we move away from the mean towards the tails of the distribution. The probability of observing a value in the tails of a normal distribution is relatively low compared to the probability of observing a value closer to the mean."
      ],
      "metadata": {
        "id": "4E1uRFWUFRDd"
      }
    },
    {
      "cell_type": "code",
      "source": [],
      "metadata": {
        "id": "Z7MwI1pWDaCd"
      },
      "execution_count": null,
      "outputs": []
    }
  ]
}